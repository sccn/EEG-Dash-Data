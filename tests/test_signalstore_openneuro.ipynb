{
 "cells": [
  {
   "cell_type": "code",
   "execution_count": null,
   "metadata": {},
   "outputs": [
    {
     "name": "stdout",
     "output_type": "stream",
     "text": [
      "The autoreload extension is already loaded. To reload it, use:\n",
      "  %reload_ext autoreload\n"
     ]
    }
   ],
   "source": [
    "# To be able to make edits to repo without having to restart notebook\n",
    "%load_ext autoreload\n",
    "%autoreload 2\n",
    "# import sys \n",
    "# sys.path.append('..')\n",
    "from eegdash.data_utils import BIDSDataset\n"
   ]
  },
  {
   "cell_type": "code",
   "execution_count": null,
   "metadata": {},
   "outputs": [
    {
     "name": "stdout",
     "output_type": "stream",
     "text": [
      "The autoreload extension is already loaded. To reload it, use:\n",
      "  %reload_ext autoreload\n"
     ]
    }
   ],
   "source": [
    "# To be able to make edits to repo without having to restart notebook\n",
    "%load_ext autoreload\n",
    "%autoreload 2\n",
    "from src import EEGDash"
   ]
  },
  {
   "cell_type": "code",
   "execution_count": null,
   "metadata": {},
   "outputs": [
    {
     "name": "stdout",
     "output_type": "stream",
     "text": [
      "The autoreload extension is already loaded. To reload it, use:\n",
      "  %reload_ext autoreload\n"
     ]
    }
   ],
   "source": [
    "eegdashdata = EEGDash(is_public=False)\n",
    "eegdashdata.add({'dataset':'test', #           'data_name': 'test', \n",
    "          'bidspath':'testpath', \n",
    "          'subject':'test', \n",
    "          'session':'test', \n",
    "          'task':'test', \n",
    "          'sampling_frequency': 250.0,\n",
    "          'modality': 'EEG',\n",
    "          'nchans':64,\n",
    "          'ntimes':74000,\n",
    "          'channel_types': ['EEG']*64,\n",
    "          'channel_names': [f'EEG{i}' for i in range(1,65)]\n",
    "        })"
   ]
  },
  {
   "cell_type": "code",
   "execution_count": null,
   "metadata": {},
   "outputs": [],
   "source": [
    "eegdashdata = EEGDash()\n",
    "data = eegdashdata.get({'data_name': 'ds002718_sub-014_task-FaceRecognition_eeg.set'})"
   ]
  },
  {
   "cell_type": "code",
   "execution_count": 10,
   "metadata": {},
   "outputs": [],
   "source": [
    "eegdashdata = EEGDash(is_public=False)\n",
    "eegdashdata.update({'dataset':'test', #           'data_name': 'test', \n",
    "        'data_name': 'test',\n",
    "        'bidspath':'testpath', \n",
    "        'subject':'test', \n",
    "        'session':'test', \n",
    "        'task':'test', \n",
    "        'sampling_frequency': 500.0,\n",
    "        'modality': 'EEG',\n",
    "        'nchans':64,\n",
    "        'ntimes':74000,\n",
    "    })"
   ]
  }
 ],
 "metadata": {
  "kernelspec": {
   "display_name": ".venv",
   "language": "python",
   "name": "python3"
  },
  "language_info": {
   "codemirror_mode": {
    "name": "ipython",
    "version": 3
   },
   "file_extension": ".py",
   "mimetype": "text/x-python",
   "name": "python",
   "nbconvert_exporter": "python",
   "pygments_lexer": "ipython3",
   "version": "3.10.12"
  }
 },
 "nbformat": 4,
 "nbformat_minor": 2
}
