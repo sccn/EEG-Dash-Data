{
 "cells": [
  {
   "cell_type": "code",
   "execution_count": 1,
   "metadata": {},
   "outputs": [],
   "source": [
    "# To be able to make edits to repo without having to restart notebook\n",
    "%load_ext autoreload\n",
    "%autoreload 2\n",
    "import sys \n",
    "sys.path.append('..')\n",
    "from eegdash.signalstore_data_utils import SignalstoreBIDS\n",
    "from eegdash.signalstore_data_utils import SignalstoreOpenneuro\n"
   ]
  },
  {
   "cell_type": "markdown",
   "metadata": {},
   "source": [
    "## Working datasets\n",
    "- ds002718"
   ]
  },
  {
   "cell_type": "code",
   "execution_count": 23,
   "metadata": {},
   "outputs": [
    {
     "name": "stdout",
     "output_type": "stream",
     "text": [
      "Pinged your deployment. You successfully connected to MongoDB!\n"
     ]
    }
   ],
   "source": [
    "signalstore = SignalstoreOpenneuro(\n",
    "    is_public=False,\n",
    "    local_filesystem=False,\n",
    ")"
   ]
  },
  {
   "cell_type": "code",
   "execution_count": null,
   "metadata": {},
   "outputs": [],
   "source": [
    "# Ingesting to MongoDB\n",
    "# signalstore.add_bids_dataset(dataset='ds002718', data_dir='/mnt/nemar/openneuro/ds002718', raw_format='eeglab')"
   ]
  },
  {
   "cell_type": "code",
   "execution_count": 16,
   "metadata": {},
   "outputs": [
    {
     "name": "stdout",
     "output_type": "stream",
     "text": [
      "Found 18 records\n"
     ]
    },
    {
     "data": {
      "text/plain": [
       "[{'schema_ref': 'eeg_signal',\n",
       "  'data_name': 'ds002718_sub-014_task-FaceRecognition_eeg.set',\n",
       "  'dataset': 'ds002718',\n",
       "  'subject': '014',\n",
       "  'task': 'FaceRecognition',\n",
       "  'session': '',\n",
       "  'run': '',\n",
       "  'modality': 'EEG',\n",
       "  'sampling_frequency': 250,\n",
       "  'version_timestamp': 0,\n",
       "  'has_file': True,\n",
       "  'time_of_save': datetime.datetime(2024, 10, 25, 14, 20, 23, 990406, tzinfo=datetime.timezone.utc),\n",
       "  'time_of_removal': None},\n",
       " {'schema_ref': 'eeg_signal',\n",
       "  'data_name': 'ds002718_sub-012_task-FaceRecognition_eeg.set',\n",
       "  'dataset': 'ds002718',\n",
       "  'subject': '012',\n",
       "  'task': 'FaceRecognition',\n",
       "  'session': '',\n",
       "  'run': '',\n",
       "  'sampling_frequency': 250,\n",
       "  'modality': 'EEG',\n",
       "  'has_file': True,\n",
       "  'version_timestamp': 0,\n",
       "  'time_of_save': datetime.datetime(2024, 10, 25, 14, 38, 37, 582636, tzinfo=datetime.timezone.utc),\n",
       "  'time_of_removal': None},\n",
       " {'schema_ref': 'eeg_signal',\n",
       "  'data_name': 'ds002718_sub-015_task-FaceRecognition_eeg.set',\n",
       "  'dataset': 'ds002718',\n",
       "  'subject': '015',\n",
       "  'task': 'FaceRecognition',\n",
       "  'session': '',\n",
       "  'run': '',\n",
       "  'sampling_frequency': 250,\n",
       "  'modality': 'EEG',\n",
       "  'has_file': True,\n",
       "  'version_timestamp': 0,\n",
       "  'time_of_save': datetime.datetime(2024, 10, 25, 14, 38, 38, 898428, tzinfo=datetime.timezone.utc),\n",
       "  'time_of_removal': None},\n",
       " {'schema_ref': 'eeg_signal',\n",
       "  'data_name': 'ds002718_sub-008_task-FaceRecognition_eeg.set',\n",
       "  'dataset': 'ds002718',\n",
       "  'subject': '008',\n",
       "  'task': 'FaceRecognition',\n",
       "  'session': '',\n",
       "  'run': '',\n",
       "  'sampling_frequency': 250,\n",
       "  'modality': 'EEG',\n",
       "  'has_file': True,\n",
       "  'version_timestamp': 0,\n",
       "  'time_of_save': datetime.datetime(2024, 10, 25, 14, 38, 40, 207469, tzinfo=datetime.timezone.utc),\n",
       "  'time_of_removal': None},\n",
       " {'schema_ref': 'eeg_signal',\n",
       "  'data_name': 'ds002718_sub-006_task-FaceRecognition_eeg.set',\n",
       "  'dataset': 'ds002718',\n",
       "  'subject': '006',\n",
       "  'task': 'FaceRecognition',\n",
       "  'session': '',\n",
       "  'run': '',\n",
       "  'sampling_frequency': 250,\n",
       "  'modality': 'EEG',\n",
       "  'has_file': True,\n",
       "  'version_timestamp': 0,\n",
       "  'time_of_save': datetime.datetime(2024, 10, 25, 14, 38, 41, 516360, tzinfo=datetime.timezone.utc),\n",
       "  'time_of_removal': None},\n",
       " {'schema_ref': 'eeg_signal',\n",
       "  'data_name': 'ds002718_sub-013_task-FaceRecognition_eeg.set',\n",
       "  'dataset': 'ds002718',\n",
       "  'subject': '013',\n",
       "  'task': 'FaceRecognition',\n",
       "  'session': '',\n",
       "  'run': '',\n",
       "  'sampling_frequency': 250,\n",
       "  'modality': 'EEG',\n",
       "  'has_file': True,\n",
       "  'version_timestamp': 0,\n",
       "  'time_of_save': datetime.datetime(2024, 10, 25, 14, 38, 42, 832414, tzinfo=datetime.timezone.utc),\n",
       "  'time_of_removal': None},\n",
       " {'schema_ref': 'eeg_signal',\n",
       "  'data_name': 'ds002718_sub-004_task-FaceRecognition_eeg.set',\n",
       "  'dataset': 'ds002718',\n",
       "  'subject': '004',\n",
       "  'task': 'FaceRecognition',\n",
       "  'session': '',\n",
       "  'run': '',\n",
       "  'sampling_frequency': 250,\n",
       "  'modality': 'EEG',\n",
       "  'has_file': True,\n",
       "  'version_timestamp': 0,\n",
       "  'time_of_save': datetime.datetime(2024, 10, 25, 14, 38, 44, 132210, tzinfo=datetime.timezone.utc),\n",
       "  'time_of_removal': None},\n",
       " {'schema_ref': 'eeg_signal',\n",
       "  'data_name': 'ds002718_sub-016_task-FaceRecognition_eeg.set',\n",
       "  'dataset': 'ds002718',\n",
       "  'subject': '016',\n",
       "  'task': 'FaceRecognition',\n",
       "  'session': '',\n",
       "  'run': '',\n",
       "  'sampling_frequency': 250,\n",
       "  'modality': 'EEG',\n",
       "  'has_file': True,\n",
       "  'version_timestamp': 0,\n",
       "  'time_of_save': datetime.datetime(2024, 10, 25, 14, 38, 45, 435612, tzinfo=datetime.timezone.utc),\n",
       "  'time_of_removal': None},\n",
       " {'schema_ref': 'eeg_signal',\n",
       "  'data_name': 'ds002718_sub-002_task-FaceRecognition_eeg.set',\n",
       "  'dataset': 'ds002718',\n",
       "  'subject': '002',\n",
       "  'task': 'FaceRecognition',\n",
       "  'session': '',\n",
       "  'run': '',\n",
       "  'sampling_frequency': 250,\n",
       "  'modality': 'EEG',\n",
       "  'has_file': True,\n",
       "  'version_timestamp': 0,\n",
       "  'time_of_save': datetime.datetime(2024, 10, 25, 14, 38, 46, 736571, tzinfo=datetime.timezone.utc),\n",
       "  'time_of_removal': None},\n",
       " {'schema_ref': 'eeg_signal',\n",
       "  'data_name': 'ds002718_sub-018_task-FaceRecognition_eeg.set',\n",
       "  'dataset': 'ds002718',\n",
       "  'subject': '018',\n",
       "  'task': 'FaceRecognition',\n",
       "  'session': '',\n",
       "  'run': '',\n",
       "  'sampling_frequency': 250,\n",
       "  'modality': 'EEG',\n",
       "  'has_file': True,\n",
       "  'version_timestamp': 0,\n",
       "  'time_of_save': datetime.datetime(2024, 10, 25, 14, 38, 48, 52476, tzinfo=datetime.timezone.utc),\n",
       "  'time_of_removal': None},\n",
       " {'schema_ref': 'eeg_signal',\n",
       "  'data_name': 'ds002718_sub-007_task-FaceRecognition_eeg.set',\n",
       "  'dataset': 'ds002718',\n",
       "  'subject': '007',\n",
       "  'task': 'FaceRecognition',\n",
       "  'session': '',\n",
       "  'run': '',\n",
       "  'sampling_frequency': 250,\n",
       "  'modality': 'EEG',\n",
       "  'has_file': True,\n",
       "  'version_timestamp': 0,\n",
       "  'time_of_save': datetime.datetime(2024, 10, 25, 14, 38, 49, 350637, tzinfo=datetime.timezone.utc),\n",
       "  'time_of_removal': None},\n",
       " {'schema_ref': 'eeg_signal',\n",
       "  'data_name': 'ds002718_sub-010_task-FaceRecognition_eeg.set',\n",
       "  'dataset': 'ds002718',\n",
       "  'subject': '010',\n",
       "  'task': 'FaceRecognition',\n",
       "  'session': '',\n",
       "  'run': '',\n",
       "  'sampling_frequency': 250,\n",
       "  'modality': 'EEG',\n",
       "  'has_file': True,\n",
       "  'version_timestamp': 0,\n",
       "  'time_of_save': datetime.datetime(2024, 10, 25, 14, 38, 50, 655335, tzinfo=datetime.timezone.utc),\n",
       "  'time_of_removal': None},\n",
       " {'schema_ref': 'eeg_signal',\n",
       "  'data_name': 'ds002718_sub-017_task-FaceRecognition_eeg.set',\n",
       "  'dataset': 'ds002718',\n",
       "  'subject': '017',\n",
       "  'task': 'FaceRecognition',\n",
       "  'session': '',\n",
       "  'run': '',\n",
       "  'sampling_frequency': 250,\n",
       "  'modality': 'EEG',\n",
       "  'has_file': True,\n",
       "  'version_timestamp': 0,\n",
       "  'time_of_save': datetime.datetime(2024, 10, 25, 14, 38, 51, 959209, tzinfo=datetime.timezone.utc),\n",
       "  'time_of_removal': None},\n",
       " {'schema_ref': 'eeg_signal',\n",
       "  'data_name': 'ds002718_sub-003_task-FaceRecognition_eeg.set',\n",
       "  'dataset': 'ds002718',\n",
       "  'subject': '003',\n",
       "  'task': 'FaceRecognition',\n",
       "  'session': '',\n",
       "  'run': '',\n",
       "  'sampling_frequency': 250,\n",
       "  'modality': 'EEG',\n",
       "  'has_file': True,\n",
       "  'version_timestamp': 0,\n",
       "  'time_of_save': datetime.datetime(2024, 10, 25, 14, 38, 53, 265755, tzinfo=datetime.timezone.utc),\n",
       "  'time_of_removal': None},\n",
       " {'schema_ref': 'eeg_signal',\n",
       "  'data_name': 'ds002718_sub-011_task-FaceRecognition_eeg.set',\n",
       "  'dataset': 'ds002718',\n",
       "  'subject': '011',\n",
       "  'task': 'FaceRecognition',\n",
       "  'session': '',\n",
       "  'run': '',\n",
       "  'sampling_frequency': 250,\n",
       "  'modality': 'EEG',\n",
       "  'has_file': True,\n",
       "  'version_timestamp': 0,\n",
       "  'time_of_save': datetime.datetime(2024, 10, 25, 14, 38, 54, 573328, tzinfo=datetime.timezone.utc),\n",
       "  'time_of_removal': None},\n",
       " {'schema_ref': 'eeg_signal',\n",
       "  'data_name': 'ds002718_sub-005_task-FaceRecognition_eeg.set',\n",
       "  'dataset': 'ds002718',\n",
       "  'subject': '005',\n",
       "  'task': 'FaceRecognition',\n",
       "  'session': '',\n",
       "  'run': '',\n",
       "  'sampling_frequency': 250,\n",
       "  'modality': 'EEG',\n",
       "  'has_file': True,\n",
       "  'version_timestamp': 0,\n",
       "  'time_of_save': datetime.datetime(2024, 10, 25, 14, 38, 55, 888644, tzinfo=datetime.timezone.utc),\n",
       "  'time_of_removal': None},\n",
       " {'schema_ref': 'eeg_signal',\n",
       "  'data_name': 'ds002718_sub-009_task-FaceRecognition_eeg.set',\n",
       "  'dataset': 'ds002718',\n",
       "  'subject': '009',\n",
       "  'task': 'FaceRecognition',\n",
       "  'session': '',\n",
       "  'run': '',\n",
       "  'sampling_frequency': 250,\n",
       "  'modality': 'EEG',\n",
       "  'has_file': True,\n",
       "  'version_timestamp': 0,\n",
       "  'time_of_save': datetime.datetime(2024, 10, 25, 14, 38, 57, 192382, tzinfo=datetime.timezone.utc),\n",
       "  'time_of_removal': None},\n",
       " {'schema_ref': 'eeg_signal',\n",
       "  'data_name': 'ds002718_sub-019_task-FaceRecognition_eeg.set',\n",
       "  'dataset': 'ds002718',\n",
       "  'subject': '019',\n",
       "  'task': 'FaceRecognition',\n",
       "  'session': '',\n",
       "  'run': '',\n",
       "  'sampling_frequency': 250,\n",
       "  'modality': 'EEG',\n",
       "  'has_file': True,\n",
       "  'version_timestamp': 0,\n",
       "  'time_of_save': datetime.datetime(2024, 10, 25, 14, 38, 58, 516998, tzinfo=datetime.timezone.utc),\n",
       "  'time_of_removal': None}]"
      ]
     },
     "execution_count": 16,
     "metadata": {},
     "output_type": "execute_result"
    }
   ],
   "source": [
    "signalstore.find({'dataset': 'ds002718'})"
   ]
  },
  {
   "cell_type": "code",
   "execution_count": 24,
   "metadata": {},
   "outputs": [
    {
     "name": "stdout",
     "output_type": "stream",
     "text": [
      "Found 1 records\n"
     ]
    },
    {
     "name": "stderr",
     "output_type": "stream",
     "text": [
      "[Parallel(n_jobs=-1)]: Using backend ThreadingBackend with 32 concurrent workers.\n",
      "/home/dung/Documents/EEG-Dash-Data/tests/../eegdash/signalstore_data_utils.py:154: RuntimeWarning: Unknown types found, setting as type EEG:\n",
      "ekg: ['EEG063', 'EEG064']\n",
      "heog: ['EEG061']\n",
      "veog: ['EEG062']\n",
      "  EEG = mne.io.read_raw_eeglab(bids_file)\n",
      "/home/dung/Documents/EEG-Dash-Data/tests/../eegdash/signalstore_data_utils.py:154: RuntimeWarning: Data will be preloaded. preload=False or a string preload is not supported when the data is stored in the .set file\n",
      "  EEG = mne.io.read_raw_eeglab(bids_file)\n",
      "/home/dung/Documents/EEG-Dash-Data/tests/../eegdash/signalstore_data_utils.py:154: RuntimeWarning: The data contains 'boundary' events, indicating data discontinuities. Be cautious of filtering and epoching around these events.\n",
      "  EEG = mne.io.read_raw_eeglab(bids_file)\n"
     ]
    },
    {
     "name": "stdout",
     "output_type": "stream",
     "text": [
      "data shape: (74, 742500)\n"
     ]
    }
   ],
   "source": [
    "data = signalstore.get({'data_name': 'ds002718_sub-014_task-FaceRecognition_eeg.set'})"
   ]
  },
  {
   "cell_type": "code",
   "execution_count": 25,
   "metadata": {},
   "outputs": [
    {
     "name": "stdout",
     "output_type": "stream",
     "text": [
      "Found 18 records\n"
     ]
    },
    {
     "name": "stderr",
     "output_type": "stream",
     "text": [
      "[Parallel(n_jobs=-1)]: Using backend ThreadingBackend with 32 concurrent workers.\n",
      "/home/dung/Documents/EEG-Dash-Data/tests/../eegdash/signalstore_data_utils.py:154: RuntimeWarning: Unknown types found, setting as type EEG:\n",
      "ekg: ['EEG063', 'EEG064']\n",
      "heog: ['EEG061']\n",
      "veog: ['EEG062']\n",
      "  EEG = mne.io.read_raw_eeglab(bids_file)\n",
      "/home/dung/Documents/EEG-Dash-Data/tests/../eegdash/signalstore_data_utils.py:154: RuntimeWarning: Data will be preloaded. preload=False or a string preload is not supported when the data is stored in the .set file\n",
      "  EEG = mne.io.read_raw_eeglab(bids_file)\n",
      "/home/dung/Documents/EEG-Dash-Data/tests/../eegdash/signalstore_data_utils.py:154: RuntimeWarning: The data contains 'boundary' events, indicating data discontinuities. Be cautious of filtering and epoching around these events.\n",
      "  EEG = mne.io.read_raw_eeglab(bids_file)\n"
     ]
    },
    {
     "name": "stdout",
     "output_type": "stream",
     "text": [
      "data shape: (74, 738750)\n"
     ]
    },
    {
     "name": "stderr",
     "output_type": "stream",
     "text": [
      "/home/dung/Documents/EEG-Dash-Data/tests/../eegdash/signalstore_data_utils.py:154: RuntimeWarning: Unknown types found, setting as type EEG:\n",
      "ekg: ['EEG063', 'EEG064']\n",
      "heog: ['EEG061']\n",
      "veog: ['EEG062']\n",
      "  EEG = mne.io.read_raw_eeglab(bids_file)\n",
      "/home/dung/Documents/EEG-Dash-Data/tests/../eegdash/signalstore_data_utils.py:154: RuntimeWarning: Data will be preloaded. preload=False or a string preload is not supported when the data is stored in the .set file\n",
      "  EEG = mne.io.read_raw_eeglab(bids_file)\n",
      "/home/dung/Documents/EEG-Dash-Data/tests/../eegdash/signalstore_data_utils.py:154: RuntimeWarning: Unknown types found, setting as type EEG:\n",
      "ekg: ['EEG063', 'EEG064']\n",
      "heog: ['EEG061']\n",
      "veog: ['EEG062']\n",
      "  EEG = mne.io.read_raw_eeglab(bids_file)\n",
      "/home/dung/Documents/EEG-Dash-Data/tests/../eegdash/signalstore_data_utils.py:154: RuntimeWarning: Data will be preloaded. preload=False or a string preload is not supported when the data is stored in the .set file\n",
      "  EEG = mne.io.read_raw_eeglab(bids_file)\n",
      "/home/dung/Documents/EEG-Dash-Data/tests/../eegdash/signalstore_data_utils.py:154: RuntimeWarning: The data contains 'boundary' events, indicating data discontinuities. Be cautious of filtering and epoching around these events.\n",
      "  EEG = mne.io.read_raw_eeglab(bids_file)\n"
     ]
    },
    {
     "name": "stdout",
     "output_type": "stream",
     "text": [
      "data shape: (74, 740000)\n"
     ]
    },
    {
     "name": "stderr",
     "output_type": "stream",
     "text": [
      "/home/dung/Documents/EEG-Dash-Data/tests/../eegdash/signalstore_data_utils.py:154: RuntimeWarning: The data contains 'boundary' events, indicating data discontinuities. Be cautious of filtering and epoching around these events.\n",
      "  EEG = mne.io.read_raw_eeglab(bids_file)\n"
     ]
    },
    {
     "name": "stdout",
     "output_type": "stream",
     "text": [
      "data shape: (74, 749000)\n"
     ]
    },
    {
     "name": "stderr",
     "output_type": "stream",
     "text": [
      "/home/dung/Documents/EEG-Dash-Data/tests/../eegdash/signalstore_data_utils.py:154: RuntimeWarning: Unknown types found, setting as type EEG:\n",
      "ekg: ['EEG063', 'EEG064']\n",
      "heog: ['EEG061']\n",
      "veog: ['EEG062']\n",
      "  EEG = mne.io.read_raw_eeglab(bids_file)\n",
      "/home/dung/Documents/EEG-Dash-Data/tests/../eegdash/signalstore_data_utils.py:154: RuntimeWarning: Data will be preloaded. preload=False or a string preload is not supported when the data is stored in the .set file\n",
      "  EEG = mne.io.read_raw_eeglab(bids_file)\n",
      "/home/dung/Documents/EEG-Dash-Data/tests/../eegdash/signalstore_data_utils.py:154: RuntimeWarning: Unknown types found, setting as type EEG:\n",
      "ekg: ['EEG063', 'EEG064']\n",
      "heog: ['EEG061']\n",
      "veog: ['EEG062']\n",
      "  EEG = mne.io.read_raw_eeglab(bids_file)\n",
      "/home/dung/Documents/EEG-Dash-Data/tests/../eegdash/signalstore_data_utils.py:154: RuntimeWarning: Data will be preloaded. preload=False or a string preload is not supported when the data is stored in the .set file\n",
      "  EEG = mne.io.read_raw_eeglab(bids_file)\n",
      "/home/dung/Documents/EEG-Dash-Data/tests/../eegdash/signalstore_data_utils.py:154: RuntimeWarning: The data contains 'boundary' events, indicating data discontinuities. Be cautious of filtering and epoching around these events.\n",
      "  EEG = mne.io.read_raw_eeglab(bids_file)\n"
     ]
    },
    {
     "name": "stdout",
     "output_type": "stream",
     "text": [
      "data shape: (74, 741750)\n"
     ]
    },
    {
     "name": "stderr",
     "output_type": "stream",
     "text": [
      "/home/dung/Documents/EEG-Dash-Data/tests/../eegdash/signalstore_data_utils.py:154: RuntimeWarning: Unknown types found, setting as type EEG:\n",
      "ekg: ['EEG063', 'EEG064']\n",
      "heog: ['EEG061']\n",
      "veog: ['EEG062']\n",
      "  EEG = mne.io.read_raw_eeglab(bids_file)\n",
      "/home/dung/Documents/EEG-Dash-Data/tests/../eegdash/signalstore_data_utils.py:154: RuntimeWarning: Data will be preloaded. preload=False or a string preload is not supported when the data is stored in the .set file\n",
      "  EEG = mne.io.read_raw_eeglab(bids_file)\n",
      "/home/dung/Documents/EEG-Dash-Data/tests/../eegdash/signalstore_data_utils.py:154: RuntimeWarning: The data contains 'boundary' events, indicating data discontinuities. Be cautious of filtering and epoching around these events.\n",
      "  EEG = mne.io.read_raw_eeglab(bids_file)\n"
     ]
    },
    {
     "name": "stdout",
     "output_type": "stream",
     "text": [
      "data shape: (74, 747750)\n"
     ]
    },
    {
     "name": "stderr",
     "output_type": "stream",
     "text": [
      "/home/dung/Documents/EEG-Dash-Data/tests/../eegdash/signalstore_data_utils.py:154: RuntimeWarning: The data contains 'boundary' events, indicating data discontinuities. Be cautious of filtering and epoching around these events.\n",
      "  EEG = mne.io.read_raw_eeglab(bids_file)\n"
     ]
    },
    {
     "name": "stdout",
     "output_type": "stream",
     "text": [
      "data shape: (74, 747000)\n"
     ]
    },
    {
     "name": "stderr",
     "output_type": "stream",
     "text": [
      "/home/dung/Documents/EEG-Dash-Data/tests/../eegdash/signalstore_data_utils.py:154: RuntimeWarning: Unknown types found, setting as type EEG:\n",
      "ekg: ['EEG063', 'EEG064']\n",
      "heog: ['EEG061']\n",
      "veog: ['EEG062']\n",
      "  EEG = mne.io.read_raw_eeglab(bids_file)\n",
      "/home/dung/Documents/EEG-Dash-Data/tests/../eegdash/signalstore_data_utils.py:154: RuntimeWarning: Estimated head radius (11.0 cm) is above the 99th percentile for adult head size. Check if the montage_units argument is correct (the default is \"mm\", but your channel positions may be in different units).\n",
      "  EEG = mne.io.read_raw_eeglab(bids_file)\n",
      "/home/dung/Documents/EEG-Dash-Data/tests/../eegdash/signalstore_data_utils.py:154: RuntimeWarning: Data will be preloaded. preload=False or a string preload is not supported when the data is stored in the .set file\n",
      "  EEG = mne.io.read_raw_eeglab(bids_file)\n",
      "/home/dung/Documents/EEG-Dash-Data/tests/../eegdash/signalstore_data_utils.py:154: RuntimeWarning: The data contains 'boundary' events, indicating data discontinuities. Be cautious of filtering and epoching around these events.\n",
      "  EEG = mne.io.read_raw_eeglab(bids_file)\n"
     ]
    },
    {
     "name": "stdout",
     "output_type": "stream",
     "text": [
      "data shape: (74, 739500)\n"
     ]
    },
    {
     "name": "stderr",
     "output_type": "stream",
     "text": [
      "/home/dung/Documents/EEG-Dash-Data/tests/../eegdash/signalstore_data_utils.py:154: RuntimeWarning: Unknown types found, setting as type EEG:\n",
      "ekg: ['EEG063', 'EEG064']\n",
      "heog: ['EEG061']\n",
      "veog: ['EEG062']\n",
      "  EEG = mne.io.read_raw_eeglab(bids_file)\n",
      "/home/dung/Documents/EEG-Dash-Data/tests/../eegdash/signalstore_data_utils.py:154: RuntimeWarning: Data will be preloaded. preload=False or a string preload is not supported when the data is stored in the .set file\n",
      "  EEG = mne.io.read_raw_eeglab(bids_file)\n",
      "/home/dung/Documents/EEG-Dash-Data/tests/../eegdash/signalstore_data_utils.py:154: RuntimeWarning: The data contains 'boundary' events, indicating data discontinuities. Be cautious of filtering and epoching around these events.\n",
      "  EEG = mne.io.read_raw_eeglab(bids_file)\n"
     ]
    },
    {
     "name": "stdout",
     "output_type": "stream",
     "text": [
      "data shape: (74, 742500)\n"
     ]
    },
    {
     "name": "stderr",
     "output_type": "stream",
     "text": [
      "/home/dung/Documents/EEG-Dash-Data/tests/../eegdash/signalstore_data_utils.py:154: RuntimeWarning: Unknown types found, setting as type EEG:\n",
      "ekg: ['EEG063', 'EEG064']\n",
      "heog: ['EEG061']\n",
      "veog: ['EEG062']\n",
      "  EEG = mne.io.read_raw_eeglab(bids_file)\n",
      "/home/dung/Documents/EEG-Dash-Data/tests/../eegdash/signalstore_data_utils.py:154: RuntimeWarning: Data will be preloaded. preload=False or a string preload is not supported when the data is stored in the .set file\n",
      "  EEG = mne.io.read_raw_eeglab(bids_file)\n",
      "/home/dung/Documents/EEG-Dash-Data/tests/../eegdash/signalstore_data_utils.py:154: RuntimeWarning: The data contains 'boundary' events, indicating data discontinuities. Be cautious of filtering and epoching around these events.\n",
      "  EEG = mne.io.read_raw_eeglab(bids_file)\n"
     ]
    },
    {
     "name": "stdout",
     "output_type": "stream",
     "text": [
      "data shape: (74, 738750)\n"
     ]
    },
    {
     "name": "stderr",
     "output_type": "stream",
     "text": [
      "/home/dung/Documents/EEG-Dash-Data/tests/../eegdash/signalstore_data_utils.py:154: RuntimeWarning: Unknown types found, setting as type EEG:\n",
      "ekg: ['EEG063', 'EEG064']\n",
      "heog: ['EEG061']\n",
      "veog: ['EEG062']\n",
      "  EEG = mne.io.read_raw_eeglab(bids_file)\n",
      "/home/dung/Documents/EEG-Dash-Data/tests/../eegdash/signalstore_data_utils.py:154: RuntimeWarning: Data will be preloaded. preload=False or a string preload is not supported when the data is stored in the .set file\n",
      "  EEG = mne.io.read_raw_eeglab(bids_file)\n",
      "/home/dung/Documents/EEG-Dash-Data/tests/../eegdash/signalstore_data_utils.py:154: RuntimeWarning: The data contains 'boundary' events, indicating data discontinuities. Be cautious of filtering and epoching around these events.\n",
      "  EEG = mne.io.read_raw_eeglab(bids_file)\n"
     ]
    },
    {
     "name": "stdout",
     "output_type": "stream",
     "text": [
      "data shape: (74, 736750)\n"
     ]
    },
    {
     "name": "stderr",
     "output_type": "stream",
     "text": [
      "/home/dung/Documents/EEG-Dash-Data/tests/../eegdash/signalstore_data_utils.py:154: RuntimeWarning: Unknown types found, setting as type EEG:\n",
      "ekg: ['EEG063', 'EEG064']\n",
      "heog: ['EEG061']\n",
      "veog: ['EEG062']\n",
      "  EEG = mne.io.read_raw_eeglab(bids_file)\n",
      "/home/dung/Documents/EEG-Dash-Data/tests/../eegdash/signalstore_data_utils.py:154: RuntimeWarning: Data will be preloaded. preload=False or a string preload is not supported when the data is stored in the .set file\n",
      "  EEG = mne.io.read_raw_eeglab(bids_file)\n",
      "/home/dung/Documents/EEG-Dash-Data/tests/../eegdash/signalstore_data_utils.py:154: RuntimeWarning: The data contains 'boundary' events, indicating data discontinuities. Be cautious of filtering and epoching around these events.\n",
      "  EEG = mne.io.read_raw_eeglab(bids_file)\n"
     ]
    },
    {
     "name": "stdout",
     "output_type": "stream",
     "text": [
      "data shape: (74, 736500)\n"
     ]
    },
    {
     "name": "stderr",
     "output_type": "stream",
     "text": [
      "/home/dung/Documents/EEG-Dash-Data/tests/../eegdash/signalstore_data_utils.py:154: RuntimeWarning: Unknown types found, setting as type EEG:\n",
      "ekg: ['EEG063', 'EEG064']\n",
      "heog: ['EEG061']\n",
      "veog: ['EEG062']\n",
      "  EEG = mne.io.read_raw_eeglab(bids_file)\n",
      "/home/dung/Documents/EEG-Dash-Data/tests/../eegdash/signalstore_data_utils.py:154: RuntimeWarning: Estimated head radius (11.0 cm) is above the 99th percentile for adult head size. Check if the montage_units argument is correct (the default is \"mm\", but your channel positions may be in different units).\n",
      "  EEG = mne.io.read_raw_eeglab(bids_file)\n",
      "/home/dung/Documents/EEG-Dash-Data/tests/../eegdash/signalstore_data_utils.py:154: RuntimeWarning: Data will be preloaded. preload=False or a string preload is not supported when the data is stored in the .set file\n",
      "  EEG = mne.io.read_raw_eeglab(bids_file)\n",
      "/home/dung/Documents/EEG-Dash-Data/tests/../eegdash/signalstore_data_utils.py:154: RuntimeWarning: The data contains 'boundary' events, indicating data discontinuities. Be cautious of filtering and epoching around these events.\n",
      "  EEG = mne.io.read_raw_eeglab(bids_file)\n"
     ]
    },
    {
     "name": "stdout",
     "output_type": "stream",
     "text": [
      "data shape: (74, 743000)\n"
     ]
    },
    {
     "name": "stderr",
     "output_type": "stream",
     "text": [
      "[Parallel(n_jobs=-1)]: Done  12 out of  18 | elapsed:  1.5min remaining:   45.3s\n",
      "/home/dung/Documents/EEG-Dash-Data/tests/../eegdash/signalstore_data_utils.py:154: RuntimeWarning: Unknown types found, setting as type EEG:\n",
      "ekg: ['EEG063', 'EEG064']\n",
      "heog: ['EEG061']\n",
      "veog: ['EEG062']\n",
      "  EEG = mne.io.read_raw_eeglab(bids_file)\n",
      "/home/dung/Documents/EEG-Dash-Data/tests/../eegdash/signalstore_data_utils.py:154: RuntimeWarning: Data will be preloaded. preload=False or a string preload is not supported when the data is stored in the .set file\n",
      "  EEG = mne.io.read_raw_eeglab(bids_file)\n",
      "/home/dung/Documents/EEG-Dash-Data/tests/../eegdash/signalstore_data_utils.py:154: RuntimeWarning: The data contains 'boundary' events, indicating data discontinuities. Be cautious of filtering and epoching around these events.\n",
      "  EEG = mne.io.read_raw_eeglab(bids_file)\n"
     ]
    },
    {
     "name": "stdout",
     "output_type": "stream",
     "text": [
      "data shape: (74, 749000)\n"
     ]
    },
    {
     "name": "stderr",
     "output_type": "stream",
     "text": [
      "/home/dung/Documents/EEG-Dash-Data/tests/../eegdash/signalstore_data_utils.py:154: RuntimeWarning: Unknown types found, setting as type EEG:\n",
      "ekg: ['EEG063', 'EEG064']\n",
      "heog: ['EEG061']\n",
      "veog: ['EEG062']\n",
      "  EEG = mne.io.read_raw_eeglab(bids_file)\n",
      "/home/dung/Documents/EEG-Dash-Data/tests/../eegdash/signalstore_data_utils.py:154: RuntimeWarning: Data will be preloaded. preload=False or a string preload is not supported when the data is stored in the .set file\n",
      "  EEG = mne.io.read_raw_eeglab(bids_file)\n",
      "/home/dung/Documents/EEG-Dash-Data/tests/../eegdash/signalstore_data_utils.py:154: RuntimeWarning: The data contains 'boundary' events, indicating data discontinuities. Be cautious of filtering and epoching around these events.\n",
      "  EEG = mne.io.read_raw_eeglab(bids_file)\n"
     ]
    },
    {
     "name": "stdout",
     "output_type": "stream",
     "text": [
      "data shape: (74, 742500)\n"
     ]
    },
    {
     "name": "stderr",
     "output_type": "stream",
     "text": [
      "/home/dung/Documents/EEG-Dash-Data/tests/../eegdash/signalstore_data_utils.py:154: RuntimeWarning: Unknown types found, setting as type EEG:\n",
      "ekg: ['EEG063', 'EEG064']\n",
      "heog: ['EEG061']\n",
      "veog: ['EEG062']\n",
      "  EEG = mne.io.read_raw_eeglab(bids_file)\n",
      "/home/dung/Documents/EEG-Dash-Data/tests/../eegdash/signalstore_data_utils.py:154: RuntimeWarning: Estimated head radius (11.1 cm) is above the 99th percentile for adult head size. Check if the montage_units argument is correct (the default is \"mm\", but your channel positions may be in different units).\n",
      "  EEG = mne.io.read_raw_eeglab(bids_file)\n",
      "/home/dung/Documents/EEG-Dash-Data/tests/../eegdash/signalstore_data_utils.py:154: RuntimeWarning: Data will be preloaded. preload=False or a string preload is not supported when the data is stored in the .set file\n",
      "  EEG = mne.io.read_raw_eeglab(bids_file)\n",
      "/home/dung/Documents/EEG-Dash-Data/tests/../eegdash/signalstore_data_utils.py:154: RuntimeWarning: The data contains 'boundary' events, indicating data discontinuities. Be cautious of filtering and epoching around these events.\n",
      "  EEG = mne.io.read_raw_eeglab(bids_file)\n"
     ]
    },
    {
     "name": "stdout",
     "output_type": "stream",
     "text": [
      "data shape: (74, 738250)\n"
     ]
    },
    {
     "name": "stderr",
     "output_type": "stream",
     "text": [
      "/home/dung/Documents/EEG-Dash-Data/tests/../eegdash/signalstore_data_utils.py:154: RuntimeWarning: Unknown types found, setting as type EEG:\n",
      "ekg: ['EEG063', 'EEG064']\n",
      "heog: ['EEG061']\n",
      "veog: ['EEG062']\n",
      "  EEG = mne.io.read_raw_eeglab(bids_file)\n",
      "/home/dung/Documents/EEG-Dash-Data/tests/../eegdash/signalstore_data_utils.py:154: RuntimeWarning: Data will be preloaded. preload=False or a string preload is not supported when the data is stored in the .set file\n",
      "  EEG = mne.io.read_raw_eeglab(bids_file)\n",
      "/home/dung/Documents/EEG-Dash-Data/tests/../eegdash/signalstore_data_utils.py:154: RuntimeWarning: The data contains 'boundary' events, indicating data discontinuities. Be cautious of filtering and epoching around these events.\n",
      "  EEG = mne.io.read_raw_eeglab(bids_file)\n"
     ]
    },
    {
     "name": "stdout",
     "output_type": "stream",
     "text": [
      "data shape: (74, 744000)\n"
     ]
    },
    {
     "name": "stderr",
     "output_type": "stream",
     "text": [
      "/home/dung/Documents/EEG-Dash-Data/tests/../eegdash/signalstore_data_utils.py:154: RuntimeWarning: Unknown types found, setting as type EEG:\n",
      "ekg: ['EEG063', 'EEG064']\n",
      "heog: ['EEG061']\n",
      "veog: ['EEG062']\n",
      "  EEG = mne.io.read_raw_eeglab(bids_file)\n",
      "/home/dung/Documents/EEG-Dash-Data/tests/../eegdash/signalstore_data_utils.py:154: RuntimeWarning: Estimated head radius (11.8 cm) is above the 99th percentile for adult head size. Check if the montage_units argument is correct (the default is \"mm\", but your channel positions may be in different units).\n",
      "  EEG = mne.io.read_raw_eeglab(bids_file)\n",
      "/home/dung/Documents/EEG-Dash-Data/tests/../eegdash/signalstore_data_utils.py:154: RuntimeWarning: Data will be preloaded. preload=False or a string preload is not supported when the data is stored in the .set file\n",
      "  EEG = mne.io.read_raw_eeglab(bids_file)\n",
      "/home/dung/Documents/EEG-Dash-Data/tests/../eegdash/signalstore_data_utils.py:154: RuntimeWarning: The data contains 'boundary' events, indicating data discontinuities. Be cautious of filtering and epoching around these events.\n",
      "  EEG = mne.io.read_raw_eeglab(bids_file)\n"
     ]
    },
    {
     "name": "stdout",
     "output_type": "stream",
     "text": [
      "data shape: (74, 743250)\n"
     ]
    },
    {
     "name": "stderr",
     "output_type": "stream",
     "text": [
      "/home/dung/Documents/EEG-Dash-Data/tests/../eegdash/signalstore_data_utils.py:154: RuntimeWarning: Unknown types found, setting as type EEG:\n",
      "ekg: ['EEG063', 'EEG064']\n",
      "heog: ['EEG061']\n",
      "veog: ['EEG062']\n",
      "  EEG = mne.io.read_raw_eeglab(bids_file)\n",
      "/home/dung/Documents/EEG-Dash-Data/tests/../eegdash/signalstore_data_utils.py:154: RuntimeWarning: Data will be preloaded. preload=False or a string preload is not supported when the data is stored in the .set file\n",
      "  EEG = mne.io.read_raw_eeglab(bids_file)\n",
      "/home/dung/Documents/EEG-Dash-Data/tests/../eegdash/signalstore_data_utils.py:154: RuntimeWarning: The data contains 'boundary' events, indicating data discontinuities. Be cautious of filtering and epoching around these events.\n",
      "  EEG = mne.io.read_raw_eeglab(bids_file)\n"
     ]
    },
    {
     "name": "stdout",
     "output_type": "stream",
     "text": [
      "data shape: (74, 741500)\n"
     ]
    },
    {
     "name": "stderr",
     "output_type": "stream",
     "text": [
      "[Parallel(n_jobs=-1)]: Done  18 out of  18 | elapsed:  2.0min finished\n"
     ]
    }
   ],
   "source": [
    "data = signalstore.get({'dataset': 'ds002718'})"
   ]
  },
  {
   "cell_type": "code",
   "execution_count": 27,
   "metadata": {},
   "outputs": [
    {
     "data": {
      "text/plain": [
       "18"
      ]
     },
     "execution_count": 27,
     "metadata": {},
     "output_type": "execute_result"
    }
   ],
   "source": [
    "len(data)"
   ]
  },
  {
   "cell_type": "code",
   "execution_count": 4,
   "metadata": {},
   "outputs": [
    {
     "name": "stdout",
     "output_type": "stream",
     "text": [
      "Found 1 records\n"
     ]
    },
    {
     "data": {
      "text/plain": [
       "[{'schema_ref': 'eeg_signal',\n",
       "  'data_name': 'ds002718_sub-014_task-FaceRecognition_eeg.set',\n",
       "  'dataset': 'ds002718',\n",
       "  'bidspath': 'ds002718/sub-014/eeg/sub-014_task-FaceRecognition_eeg.set',\n",
       "  'subject': '014',\n",
       "  'task': 'FaceRecognition',\n",
       "  'session': '',\n",
       "  'run': '',\n",
       "  'sampling_frequency': 250,\n",
       "  'modality': 'EEG',\n",
       "  'has_file': True,\n",
       "  'version_timestamp': 0,\n",
       "  'time_of_save': datetime.datetime(2025, 1, 7, 23, 21, 37, 535248, tzinfo=datetime.timezone.utc),\n",
       "  'time_of_removal': None}]"
      ]
     },
     "execution_count": 4,
     "metadata": {},
     "output_type": "execute_result"
    }
   ],
   "source": [
    "signalstore.find({'data_name': 'ds002718_sub-014_task-FaceRecognition_eeg.set'})"
   ]
  },
  {
   "cell_type": "code",
   "execution_count": 21,
   "metadata": {},
   "outputs": [
    {
     "name": "stdout",
     "output_type": "stream",
     "text": [
      "Found 1 records\n",
      "openneuro path openneuro.org/ds002718/sub-014/eeg/sub-014_task-FaceRecognition_eeg.set\n"
     ]
    },
    {
     "name": "stderr",
     "output_type": "stream",
     "text": [
      "/home/dung/Documents/EEG-Dash-Data/tests/../eegdash/signalstore_data_utils.py:144: RuntimeWarning: Unknown types found, setting as type EEG:\n",
      "ekg: ['EEG063', 'EEG064']\n",
      "heog: ['EEG061']\n",
      "veog: ['EEG062']\n",
      "  EEG = mne.io.read_raw_eeglab(bids_file)\n",
      "/home/dung/Documents/EEG-Dash-Data/tests/../eegdash/signalstore_data_utils.py:144: RuntimeWarning: Data will be preloaded. preload=False or a string preload is not supported when the data is stored in the .set file\n",
      "  EEG = mne.io.read_raw_eeglab(bids_file)\n",
      "/home/dung/Documents/EEG-Dash-Data/tests/../eegdash/signalstore_data_utils.py:144: RuntimeWarning: The data contains 'boundary' events, indicating data discontinuities. Be cautious of filtering and epoching around these events.\n",
      "  EEG = mne.io.read_raw_eeglab(bids_file)\n"
     ]
    },
    {
     "name": "stdout",
     "output_type": "stream",
     "text": [
      "data shape: (74, 742500)\n"
     ]
    }
   ],
   "source": [
    "data = signalstore.get({'data_name': 'ds002718_sub-014_task-FaceRecognition_eeg.set'})"
   ]
  },
  {
   "cell_type": "code",
   "execution_count": null,
   "metadata": {},
   "outputs": [],
   "source": []
  }
 ],
 "metadata": {
  "kernelspec": {
   "display_name": ".venv",
   "language": "python",
   "name": "python3"
  },
  "language_info": {
   "codemirror_mode": {
    "name": "ipython",
    "version": 3
   },
   "file_extension": ".py",
   "mimetype": "text/x-python",
   "name": "python",
   "nbconvert_exporter": "python",
   "pygments_lexer": "ipython3",
   "version": "3.10.12"
  }
 },
 "nbformat": 4,
 "nbformat_minor": 2
}
