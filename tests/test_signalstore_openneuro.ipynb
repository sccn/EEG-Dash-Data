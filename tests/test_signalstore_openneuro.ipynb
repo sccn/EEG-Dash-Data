{
 "cells": [
  {
   "cell_type": "code",
   "execution_count": 29,
   "metadata": {},
   "outputs": [
    {
     "name": "stdout",
     "output_type": "stream",
     "text": [
      "The autoreload extension is already loaded. To reload it, use:\n",
      "  %reload_ext autoreload\n"
     ]
    }
   ],
   "source": [
    "# To be able to make edits to repo without having to restart notebook\n",
    "%load_ext autoreload\n",
    "%autoreload 2\n",
    "# import sys \n",
    "# sys.path.append('..')\n",
    "from eegdash.data_utils import BIDSDataset\n"
   ]
  },
  {
   "cell_type": "code",
   "execution_count": 2,
   "metadata": {},
   "outputs": [
    {
     "name": "stdout",
     "output_type": "stream",
     "text": [
      "The autoreload extension is already loaded. To reload it, use:\n",
      "  %reload_ext autoreload\n"
     ]
    }
   ],
   "source": [
    "# To be able to make edits to repo without having to restart notebook\n",
    "%load_ext autoreload\n",
    "%autoreload 2\n",
    "from eegdash import EEGDash"
   ]
  },
  {
   "cell_type": "code",
   "execution_count": null,
   "metadata": {},
   "outputs": [
    {
     "name": "stdout",
     "output_type": "stream",
     "text": [
      "The autoreload extension is already loaded. To reload it, use:\n",
      "  %reload_ext autoreload\n"
     ]
    }
   ],
   "source": [
    "eegdashdata = EEGDash(is_public=False)\n",
    "eegdashdata.add({'dataset':'test', #           'data_name': 'test', \n",
    "          'bidspath':'testpath', \n",
    "          'subject':'test', \n",
    "          'session':'test', \n",
    "          'task':'test', \n",
    "          'sampling_frequency': 250.0,\n",
    "          'modality': 'EEG',\n",
    "          'nchans':64,\n",
    "          'ntimes':74000,\n",
    "          'channel_types': ['EEG']*64,\n",
    "          'channel_names': [f'EEG{i}' for i in range(1,65)]\n",
    "        })"
   ]
  },
  {
   "cell_type": "code",
   "execution_count": 19,
   "metadata": {},
   "outputs": [
    {
     "name": "stdout",
     "output_type": "stream",
     "text": [
      "Found 1 records\n"
     ]
    },
    {
     "name": "stderr",
     "output_type": "stream",
     "text": [
      "/home/dung/Documents/EEG-Dash-Data/eegdash/main.py:79: RuntimeWarning: Unknown types found, setting as type EEG:\n",
      "ekg: ['EEG063', 'EEG064']\n",
      "heog: ['EEG061']\n",
      "veog: ['EEG062']\n",
      "  EEG = mne.io.read_raw_eeglab(bids_file)\n",
      "/home/dung/Documents/EEG-Dash-Data/eegdash/main.py:79: RuntimeWarning: Data will be preloaded. preload=False or a string preload is not supported when the data is stored in the .set file\n",
      "  EEG = mne.io.read_raw_eeglab(bids_file)\n",
      "/home/dung/Documents/EEG-Dash-Data/eegdash/main.py:79: RuntimeWarning: The data contains 'boundary' events, indicating data discontinuities. Be cautious of filtering and epoching around these events.\n",
      "  EEG = mne.io.read_raw_eeglab(bids_file)\n"
     ]
    }
   ],
   "source": [
    "eegdashdata = EEGDash()\n",
    "data = eegdashdata.get({'data_name': 'ds002718_sub-014_task-FaceRecognition_eeg.set'})"
   ]
  },
  {
   "cell_type": "code",
   "execution_count": 3,
   "metadata": {},
   "outputs": [],
   "source": [
    "eegdashdata = EEGDash(is_public=False)\n",
    "eegdashdata.update({'dataset':'test', #           'data_name': 'test', \n",
    "        'data_name': 'test',\n",
    "        'bidspath':'testpath', \n",
    "        'subject':'test', \n",
    "        'session':'test', \n",
    "        'task':'test', \n",
    "        'sampling_frequency': 500.0,\n",
    "        'modality': 'EEG',\n",
    "        'nchans':64,\n",
    "        'ntimes':74000,\n",
    "    })"
   ]
  },
  {
   "cell_type": "code",
   "execution_count": null,
   "metadata": {},
   "outputs": [
    {
     "data": {
      "text/plain": [
       "False"
      ]
     },
     "execution_count": 5,
     "metadata": {},
     "output_type": "execute_result"
    }
   ],
   "source": []
  },
  {
   "cell_type": "code",
   "execution_count": null,
   "metadata": {},
   "outputs": [],
   "source": []
  }
 ],
 "metadata": {
  "kernelspec": {
   "display_name": ".venv",
   "language": "python",
   "name": "python3"
  },
  "language_info": {
   "codemirror_mode": {
    "name": "ipython",
    "version": 3
   },
   "file_extension": ".py",
   "mimetype": "text/x-python",
   "name": "python",
   "nbconvert_exporter": "python",
   "pygments_lexer": "ipython3",
   "version": "3.10.12"
  }
 },
 "nbformat": 4,
 "nbformat_minor": 2
}
