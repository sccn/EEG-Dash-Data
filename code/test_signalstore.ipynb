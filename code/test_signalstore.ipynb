{
 "cells": [
  {
   "cell_type": "code",
   "execution_count": 2,
   "metadata": {},
   "outputs": [],
   "source": [
    "# To be able to make edits to repo without having to restart notebook\n",
    "%load_ext autoreload\n",
    "%autoreload 2\n",
    "import sys \n",
    "sys.path.append('..')\n",
    "import numpy as np\n",
    "from signalstore_data_utils import SignalstoreBIDS\n"
   ]
  },
  {
   "cell_type": "markdown",
   "metadata": {},
   "source": [
    "## Working datasets\n",
    "- ds004580\n",
    "- ds004515"
   ]
  },
  {
   "cell_type": "code",
   "execution_count": 12,
   "metadata": {},
   "outputs": [],
   "source": [
    "signalstore = SignalstoreBIDS(\n",
    "    dbconnectionstring='mongodb://127.0.0.1:27017/?directConnection=true&serverSelectionTimeoutMS=2000&appName=mongosh+2.3.1',\n",
    "    # dbconnectionstring='mongodb://23.21.113.214:27017/?directConnection=true&serverSelectionTimeoutMS=2000&appName=mongosh+2.2.1',\n",
    "    local_filesystem=True,\n",
    "    data_dir='/mnt/nemar/openneuro/ds002718',\n",
    "    dataset='ds002718'\n",
    ")"
   ]
  },
  {
   "cell_type": "code",
   "execution_count": 10,
   "metadata": {},
   "outputs": [
    {
     "name": "stdout",
     "output_type": "stream",
     "text": [
      "property model:  version_timestamp\n",
      "property model:  schema_ref\n",
      "property model:  schema_type\n",
      "property model:  schema_name\n",
      "property model:  schema_title\n",
      "property model:  schema_description\n",
      "property model:  data_name\n",
      "property model:  time_of_save\n",
      "property model:  time_of_removal\n",
      "property model:  record_type\n",
      "property model:  modality\n",
      "property model:  json_schema\n",
      "property model:  has_file\n",
      "property model:  unit_of_measure\n",
      "property model:  dimension_of_measure\n",
      "property model:  acquisition\n",
      "property model:  acquisition_date\n",
      "property model:  import_date\n",
      "property model:  acquisition_notes\n",
      "property model:  data_dimensions\n",
      "property model:  shape\n",
      "property model:  dtype\n",
      "property model:  session_description\n",
      "property model:  session_date\n",
      "property model:  session_time\n",
      "property model:  session_duration\n",
      "property model:  session_notes\n",
      "property model:  session_run\n",
      "property model:  data_ref\n",
      "property model:  start_time\n",
      "property model:  duration\n",
      "property model:  duration_unit\n",
      "property model:  animal_species\n",
      "property model:  age\n",
      "property model:  age_unit\n",
      "property model:  age_lower_bound\n",
      "property model:  age_upper_bound\n",
      "property model:  animal_id\n",
      "property model:  tetrode_id\n",
      "property model:  tetrode_depth\n",
      "property model:  genotype\n",
      "property model:  animal_strain\n",
      "property model:  stimulus_type\n",
      "property model:  stimulus_id\n",
      "property model:  stimulus_description\n",
      "property model:  recording_length\n",
      "property model:  sample_rate\n",
      "property model:  arena_shape\n",
      "property model:  arena_description\n",
      "property model:  study_description\n",
      "property model:  arena_height\n",
      "property model:  arena_width\n",
      "property model:  diameter\n",
      "property model:  arena_side_length\n",
      "property model:  arena_radius\n",
      "property model:  spike_count\n",
      "property model:  subject\n",
      "property model:  sampling_frequency\n",
      "property model:  attending_direction\n",
      "property model:  attending_story\n",
      "property model:  attend_score\n",
      "property model:  nonattend_score\n",
      "property model:  original_length\n",
      "property model:  story\n",
      "property model:  task\n",
      "property model:  session\n",
      "property model:  run\n",
      "meta model:  record_metamodel\n",
      "meta model:  xarray_dataarray_metamodel\n",
      "domain model:  eeg_signal\n",
      "domain model:  stimuli_record\n",
      "domain model:  wordvec\n",
      "domain model:  offset_times\n",
      "domain model:  onset_times\n",
      "domain model:  sentence_boundaries\n",
      "domain model:  envelope\n"
     ]
    }
   ],
   "source": [
    "\n",
    "signalstore.load_domain_models()"
   ]
  },
  {
   "cell_type": "code",
   "execution_count": 16,
   "metadata": {},
   "outputs": [
    {
     "name": "stdout",
     "output_type": "stream",
     "text": [
      "bids raw file /mnt/nemar/openneuro/ds002718/sub-014/eeg/sub-014_task-FaceRecognition_eeg.set\n",
      "data shape: (74, 742500)\n",
      "bids raw file /mnt/nemar/openneuro/ds002718/sub-012/eeg/sub-012_task-FaceRecognition_eeg.set\n",
      "data shape: (74, 747000)\n",
      "bids raw file /mnt/nemar/openneuro/ds002718/sub-015/eeg/sub-015_task-FaceRecognition_eeg.set\n",
      "data shape: (74, 740000)\n",
      "bids raw file /mnt/nemar/openneuro/ds002718/sub-008/eeg/sub-008_task-FaceRecognition_eeg.set\n",
      "data shape: (74, 738750)\n",
      "bids raw file /mnt/nemar/openneuro/ds002718/sub-006/eeg/sub-006_task-FaceRecognition_eeg.set\n",
      "data shape: (74, 741750)\n",
      "adding data ds002718_sub-006_task-FaceRecognition_eeg.set\n",
      "bids raw file /mnt/nemar/openneuro/ds002718/sub-013/eeg/sub-013_task-FaceRecognition_eeg.set\n",
      "data shape: (74, 736750)\n",
      "adding data ds002718_sub-013_task-FaceRecognition_eeg.set\n",
      "bids raw file /mnt/nemar/openneuro/ds002718/sub-004/eeg/sub-004_task-FaceRecognition_eeg.set\n",
      "data shape: (74, 749000)\n",
      "adding data ds002718_sub-004_task-FaceRecognition_eeg.set\n",
      "bids raw file /mnt/nemar/openneuro/ds002718/sub-016/eeg/sub-016_task-FaceRecognition_eeg.set\n",
      "data shape: (74, 738750)\n",
      "adding data ds002718_sub-016_task-FaceRecognition_eeg.set\n",
      "bids raw file /mnt/nemar/openneuro/ds002718/sub-002/eeg/sub-002_task-FaceRecognition_eeg.set\n",
      "data shape: (74, 747750)\n",
      "adding data ds002718_sub-002_task-FaceRecognition_eeg.set\n",
      "bids raw file /mnt/nemar/openneuro/ds002718/sub-018/eeg/sub-018_task-FaceRecognition_eeg.set\n",
      "data shape: (74, 736500)\n",
      "adding data ds002718_sub-018_task-FaceRecognition_eeg.set\n",
      "bids raw file /mnt/nemar/openneuro/ds002718/sub-007/eeg/sub-007_task-FaceRecognition_eeg.set\n",
      "data shape: (74, 738250)\n",
      "adding data ds002718_sub-007_task-FaceRecognition_eeg.set\n",
      "bids raw file /mnt/nemar/openneuro/ds002718/sub-010/eeg/sub-010_task-FaceRecognition_eeg.set\n",
      "data shape: (74, 739500)\n",
      "adding data ds002718_sub-010_task-FaceRecognition_eeg.set\n",
      "bids raw file /mnt/nemar/openneuro/ds002718/sub-017/eeg/sub-017_task-FaceRecognition_eeg.set\n",
      "data shape: (74, 749000)\n",
      "adding data ds002718_sub-017_task-FaceRecognition_eeg.set\n",
      "bids raw file /mnt/nemar/openneuro/ds002718/sub-003/eeg/sub-003_task-FaceRecognition_eeg.set\n",
      "data shape: (74, 741500)\n",
      "adding data ds002718_sub-003_task-FaceRecognition_eeg.set\n",
      "bids raw file /mnt/nemar/openneuro/ds002718/sub-011/eeg/sub-011_task-FaceRecognition_eeg.set\n",
      "data shape: (74, 743000)\n",
      "adding data ds002718_sub-011_task-FaceRecognition_eeg.set\n",
      "bids raw file /mnt/nemar/openneuro/ds002718/sub-005/eeg/sub-005_task-FaceRecognition_eeg.set\n",
      "data shape: (74, 744000)\n",
      "adding data ds002718_sub-005_task-FaceRecognition_eeg.set\n",
      "bids raw file /mnt/nemar/openneuro/ds002718/sub-009/eeg/sub-009_task-FaceRecognition_eeg.set\n",
      "data shape: (74, 742500)\n",
      "adding data ds002718_sub-009_task-FaceRecognition_eeg.set\n",
      "bids raw file /mnt/nemar/openneuro/ds002718/sub-019/eeg/sub-019_task-FaceRecognition_eeg.set\n",
      "data shape: (74, 743250)\n",
      "adding data ds002718_sub-019_task-FaceRecognition_eeg.set\n"
     ]
    }
   ],
   "source": [
    "signalstore.add_data()"
   ]
  },
  {
   "cell_type": "code",
   "execution_count": 17,
   "metadata": {},
   "outputs": [],
   "source": [
    "signalstore_aws = SignalstoreBIDS(\n",
    "    dbconnectionstring='mongodb://23.21.113.214:27017/?directConnection=true&serverSelectionTimeoutMS=2000&appName=mongosh+2.2.1',\n",
    "    local_filesystem=False,\n",
    "    project_name='eegdash',\n",
    ")"
   ]
  },
  {
   "cell_type": "code",
   "execution_count": 21,
   "metadata": {},
   "outputs": [
    {
     "data": {
      "text/plain": [
       "[]"
      ]
     },
     "execution_count": 21,
     "metadata": {},
     "output_type": "execute_result"
    }
   ],
   "source": [
    "signalstore_aws.find({'task': 'Simon'})"
   ]
  },
  {
   "cell_type": "code",
   "execution_count": 22,
   "metadata": {},
   "outputs": [
    {
     "ename": "DomainRepositoryModelAlreadyExistsError",
     "evalue": "A model with schema_name 'version_timestamp' already exists in the repository.",
     "output_type": "error",
     "traceback": [
      "\u001b[0;31m---------------------------------------------------------------------------\u001b[0m",
      "\u001b[0;31mDomainRepositoryModelAlreadyExistsError\u001b[0m   Traceback (most recent call last)",
      "Cell \u001b[0;32mIn[22], line 1\u001b[0m\n\u001b[0;32m----> 1\u001b[0m \u001b[43msignalstore_aws\u001b[49m\u001b[38;5;241;43m.\u001b[39;49m\u001b[43mload_domain_models\u001b[49m\u001b[43m(\u001b[49m\u001b[43m)\u001b[49m\n",
      "File \u001b[0;32m~/Documents/EEG-Dash-Data/code/signalstore_data_utils.py:87\u001b[0m, in \u001b[0;36mSignalstoreBIDS.load_domain_models\u001b[0;34m(self)\u001b[0m\n\u001b[1;32m     85\u001b[0m \u001b[38;5;28;01mwith\u001b[39;00m \u001b[38;5;28mself\u001b[39m\u001b[38;5;241m.\u001b[39muow \u001b[38;5;28;01mas\u001b[39;00m uow:\n\u001b[1;32m     86\u001b[0m     \u001b[38;5;28;01mfor\u001b[39;00m property_model \u001b[38;5;129;01min\u001b[39;00m property_models:\n\u001b[0;32m---> 87\u001b[0m         \u001b[43muow\u001b[49m\u001b[38;5;241;43m.\u001b[39;49m\u001b[43mdomain_models\u001b[49m\u001b[38;5;241;43m.\u001b[39;49m\u001b[43madd\u001b[49m\u001b[43m(\u001b[49m\u001b[43mproperty_model\u001b[49m\u001b[43m)\u001b[49m\n\u001b[1;32m     88\u001b[0m         model \u001b[38;5;241m=\u001b[39m uow\u001b[38;5;241m.\u001b[39mdomain_models\u001b[38;5;241m.\u001b[39mget(property_model[\u001b[38;5;124m'\u001b[39m\u001b[38;5;124mschema_name\u001b[39m\u001b[38;5;124m'\u001b[39m])\n\u001b[1;32m     89\u001b[0m         \u001b[38;5;28mprint\u001b[39m(\u001b[38;5;124m'\u001b[39m\u001b[38;5;124mproperty model: \u001b[39m\u001b[38;5;124m'\u001b[39m, model[\u001b[38;5;124m'\u001b[39m\u001b[38;5;124mschema_name\u001b[39m\u001b[38;5;124m'\u001b[39m])\n",
      "File \u001b[0;32m~/Documents/EEG-Dash-Data/code/signalstore/store/repositories.py:319\u001b[0m, in \u001b[0;36mDomainModelRepository.add\u001b[0;34m(self, model)\u001b[0m\n\u001b[1;32m    317\u001b[0m \u001b[38;5;28mself\u001b[39m\u001b[38;5;241m.\u001b[39m_validate(model)\n\u001b[1;32m    318\u001b[0m \u001b[38;5;28;01mif\u001b[39;00m \u001b[38;5;28mself\u001b[39m\u001b[38;5;241m.\u001b[39m_dao\u001b[38;5;241m.\u001b[39mexists(schema_name\u001b[38;5;241m=\u001b[39mmodel[\u001b[38;5;124m\"\u001b[39m\u001b[38;5;124mschema_name\u001b[39m\u001b[38;5;124m\"\u001b[39m]):\n\u001b[0;32m--> 319\u001b[0m     \u001b[38;5;28;01mraise\u001b[39;00m DomainRepositoryModelAlreadyExistsError(\u001b[38;5;124mf\u001b[39m\u001b[38;5;124m\"\u001b[39m\u001b[38;5;124mA model with schema_name \u001b[39m\u001b[38;5;124m'\u001b[39m\u001b[38;5;132;01m{\u001b[39;00mmodel[\u001b[38;5;124m'\u001b[39m\u001b[38;5;124mschema_name\u001b[39m\u001b[38;5;124m'\u001b[39m]\u001b[38;5;132;01m}\u001b[39;00m\u001b[38;5;124m'\u001b[39m\u001b[38;5;124m already exists in the repository.\u001b[39m\u001b[38;5;124m\"\u001b[39m)\n\u001b[1;32m    320\u001b[0m \u001b[38;5;28;01mtry\u001b[39;00m:\n\u001b[1;32m    321\u001b[0m     \u001b[38;5;28mself\u001b[39m\u001b[38;5;241m.\u001b[39m_dao\u001b[38;5;241m.\u001b[39madd(document\u001b[38;5;241m=\u001b[39mmodel, timestamp\u001b[38;5;241m=\u001b[39mohe\u001b[38;5;241m.\u001b[39mtimestamp)\n",
      "\u001b[0;31mDomainRepositoryModelAlreadyExistsError\u001b[0m: A model with schema_name 'version_timestamp' already exists in the repository."
     ]
    }
   ],
   "source": []
  },
  {
   "cell_type": "code",
   "execution_count": null,
   "metadata": {},
   "outputs": [],
   "source": [
    "signalstore_local = SignalstoreBIDS(\n",
    "    dbconnectionstring='mongodb://127.0.0.1:27017/?directConnection=true&serverSelectionTimeoutMS=2000&appName=mongosh+2.3.1',\n",
    "    local_filesystem=True,\n",
    "    project_name='eegdash'\n",
    ")"
   ]
  }
 ],
 "metadata": {
  "kernelspec": {
   "display_name": ".venv",
   "language": "python",
   "name": "python3"
  },
  "language_info": {
   "codemirror_mode": {
    "name": "ipython",
    "version": 3
   },
   "file_extension": ".py",
   "mimetype": "text/x-python",
   "name": "python",
   "nbconvert_exporter": "python",
   "pygments_lexer": "ipython3",
   "version": "3.10.12"
  }
 },
 "nbformat": 4,
 "nbformat_minor": 2
}
