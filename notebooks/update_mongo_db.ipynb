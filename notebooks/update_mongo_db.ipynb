{
 "cells": [
  {
   "cell_type": "code",
   "execution_count": 32,
   "metadata": {},
   "outputs": [
    {
     "name": "stdout",
     "output_type": "stream",
     "text": [
      "The autoreload extension is already loaded. To reload it, use:\n",
      "  %reload_ext autoreload\n"
     ]
    }
   ],
   "source": [
    "%load_ext autoreload\n",
    "%autoreload 2\n",
    "from eegdash import EEGDash\n",
    "from eegdash.data_utils import BIDSDataset"
   ]
  },
  {
   "cell_type": "code",
   "execution_count": 31,
   "metadata": {},
   "outputs": [],
   "source": [
    "def get_desired_bids_info(eegdashObj, record, bidsdataset):\n",
    "    record_bidspath = record['bidspath']\n",
    "    bids_filepath = [bidsfile for bidsfile in bidsdataset.files if bidsfile.endswith(record_bidspath)]\n",
    "    if len(bids_filepath) == 0:\n",
    "        return None\n",
    "    bids_filepath = bids_filepath[0]\n",
    "    return eegdashObj.load_eeg_attrs_from_bids_file(bidsdataset, bids_filepath)\n",
    "\n",
    "eegdashdata = EEGDash(is_public=False)\n",
    "datasets = ['ds005507','ds005506', 'ds005510', 'ds005512','ds005505','ds005508','ds005509','ds005514','ds005511'] # 95 minutes\n",
    "for dataset in datasets:\n",
    "    print(dataset)\n",
    "    records = eegdashdata.findrecord({'dataset': dataset}) # current call\n",
    "    bidsdataset = BIDSDataset(f'/mnt/nemar/openneuro/{dataset}', dataset)\n",
    "    for record in records:\n",
    "        eeg_attrs = get_desired_bids_info(eegdashdata, record, bidsdataset)\n",
    "        if eeg_attrs:\n",
    "            # eeg_attrs['schema_ref'] = 'eeg_signal'\n",
    "            print(eeg_attrs['data_name'])\n",
    "            eegdashdata.update(eeg_attrs)"
   ]
  },
  {
   "cell_type": "code",
   "execution_count": 2,
   "metadata": {},
   "outputs": [
    {
     "data": {
      "text/plain": [
       "array(['/mnt/nemar/openneuro/ds002718/sub-014/eeg/sub-014_task-FaceRecognition_eeg.set',\n",
       "       '/mnt/nemar/openneuro/ds002718/sub-012/eeg/sub-012_task-FaceRecognition_eeg.set',\n",
       "       '/mnt/nemar/openneuro/ds002718/sub-015/eeg/sub-015_task-FaceRecognition_eeg.set',\n",
       "       '/mnt/nemar/openneuro/ds002718/sub-008/eeg/sub-008_task-FaceRecognition_eeg.set',\n",
       "       '/mnt/nemar/openneuro/ds002718/sub-006/eeg/sub-006_task-FaceRecognition_eeg.set',\n",
       "       '/mnt/nemar/openneuro/ds002718/sub-013/eeg/sub-013_task-FaceRecognition_eeg.set',\n",
       "       '/mnt/nemar/openneuro/ds002718/sub-004/eeg/sub-004_task-FaceRecognition_eeg.set',\n",
       "       '/mnt/nemar/openneuro/ds002718/sub-016/eeg/sub-016_task-FaceRecognition_eeg.set',\n",
       "       '/mnt/nemar/openneuro/ds002718/sub-002/eeg/sub-002_task-FaceRecognition_eeg.set',\n",
       "       '/mnt/nemar/openneuro/ds002718/sub-018/eeg/sub-018_task-FaceRecognition_eeg.set',\n",
       "       '/mnt/nemar/openneuro/ds002718/sub-007/eeg/sub-007_task-FaceRecognition_eeg.set',\n",
       "       '/mnt/nemar/openneuro/ds002718/sub-010/eeg/sub-010_task-FaceRecognition_eeg.set',\n",
       "       '/mnt/nemar/openneuro/ds002718/sub-017/eeg/sub-017_task-FaceRecognition_eeg.set',\n",
       "       '/mnt/nemar/openneuro/ds002718/sub-003/eeg/sub-003_task-FaceRecognition_eeg.set',\n",
       "       '/mnt/nemar/openneuro/ds002718/sub-011/eeg/sub-011_task-FaceRecognition_eeg.set',\n",
       "       '/mnt/nemar/openneuro/ds002718/sub-005/eeg/sub-005_task-FaceRecognition_eeg.set',\n",
       "       '/mnt/nemar/openneuro/ds002718/sub-009/eeg/sub-009_task-FaceRecognition_eeg.set',\n",
       "       '/mnt/nemar/openneuro/ds002718/sub-019/eeg/sub-019_task-FaceRecognition_eeg.set'],\n",
       "      dtype='<U78')"
      ]
     },
     "execution_count": 2,
     "metadata": {},
     "output_type": "execute_result"
    }
   ],
   "source": [
    "from eegdash.data_utils import BIDSDataset\n",
    "bidsdataset = BIDSDataset('/mnt/nemar/openneuro', 'ds002718')\n",
    "bidsdataset.files"
   ]
  },
  {
   "cell_type": "code",
   "execution_count": 3,
   "metadata": {},
   "outputs": [],
   "source": [
    "def get_desired_bids_info(eegdashObj, record, bidsdataset):\n",
    "    record_bidspath = record['bidspath']\n",
    "    bids_filepath = [bidsfile for bidsfile in bidsdataset.files if bidsfile.endswith(record_bidspath)]\n",
    "    if len(bids_filepath) == 0:\n",
    "        return None\n",
    "    bids_filepath = bids_filepath[0]\n",
    "    return eegdashObj.load_eeg_attrs_from_bids_file(bidsdataset, bids_filepath)"
   ]
  },
  {
   "cell_type": "markdown",
   "metadata": {},
   "source": [
    "rerun after corrected format"
   ]
  },
  {
   "cell_type": "code",
   "execution_count": 35,
   "metadata": {},
   "outputs": [],
   "source": [
    "eegdashdata = EEGDash(is_public=False)\n",
    "eegdashdata.remove_field_from_record({\"data_name\": \"ds002718_sub-014_task-FaceRecognition_eeg.set\"}, 'has_file')"
   ]
  },
  {
   "cell_type": "code",
   "execution_count": 40,
   "metadata": {},
   "outputs": [],
   "source": [
    "eegdashdata.remove_field_from_db('schema_ref')"
   ]
  }
 ],
 "metadata": {
  "kernelspec": {
   "display_name": ".venv",
   "language": "python",
   "name": "python3"
  },
  "language_info": {
   "codemirror_mode": {
    "name": "ipython",
    "version": 3
   },
   "file_extension": ".py",
   "mimetype": "text/x-python",
   "name": "python",
   "nbconvert_exporter": "python",
   "pygments_lexer": "ipython3",
   "version": "3.10.12"
  }
 },
 "nbformat": 4,
 "nbformat_minor": 2
}
